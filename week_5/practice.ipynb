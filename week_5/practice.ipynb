{
 "cells": [
  {
   "cell_type": "code",
   "execution_count": 2,
   "id": "50fea2f5-65dd-40d0-a07d-f8967202dd5d",
   "metadata": {},
   "outputs": [
    {
     "name": "stdout",
     "output_type": "stream",
     "text": [
      "I'm first call to user defined function!\n",
      "Again second call to the same function\n"
     ]
    }
   ],
   "source": [
    "def printme( str ):\n",
    "    print (str);\n",
    "    return;\n",
    "\n",
    "printme(\"I'm first call to user defined function!\");\n",
    "printme(\"Again second call to the same function\");"
   ]
  },
  {
   "cell_type": "code",
   "execution_count": 3,
   "id": "b19559f3-95e2-4e70-bedc-587fa5c8545f",
   "metadata": {},
   "outputs": [
    {
     "name": "stdout",
     "output_type": "stream",
     "text": [
      "Values inside the function:  [10, 20, 30, [1, 2, 3, 4]]\n",
      "Values outside the function:  [10, 20, 30, [1, 2, 3, 4]]\n"
     ]
    }
   ],
   "source": [
    "def changeme( mylist ):\n",
    "    mylist.append([1,2,3,4])\n",
    "    print(\"Values inside the function: \", mylist)\n",
    "    return\n",
    "mylist = [10,20,30]\n",
    "changeme( mylist )\n",
    "print (\"Values outside the function: \", mylist)"
   ]
  },
  {
   "cell_type": "code",
   "execution_count": 4,
   "id": "e97664d6-d1d3-494d-997f-f8444da12042",
   "metadata": {},
   "outputs": [
    {
     "name": "stdout",
     "output_type": "stream",
     "text": [
      "Values inside the function:  [1, 2, 3, 4]\n",
      "Values outside the function:  [10, 20, 30]\n"
     ]
    }
   ],
   "source": [
    "def changeme( mylist ):\n",
    "    mylist = [1,2,3,4];\n",
    "    print(\"Values inside the function: \", mylist)\n",
    "    return\n",
    "mylist = [10,20,30];\n",
    "changeme( mylist );\n",
    "print (\"Values outside the function: \", mylist)"
   ]
  },
  {
   "cell_type": "code",
   "execution_count": 5,
   "id": "26f9e15b-3504-4684-a5e1-0163b869faea",
   "metadata": {},
   "outputs": [
    {
     "name": "stdout",
     "output_type": "stream",
     "text": [
      "My string\n"
     ]
    }
   ],
   "source": [
    "def printme( str ):\n",
    "    print (str);\n",
    "    return;\n",
    "printme( str = \"My string\");"
   ]
  },
  {
   "cell_type": "code",
   "execution_count": 6,
   "id": "fb13b99c-2122-4afe-baf3-3d5854e92b32",
   "metadata": {},
   "outputs": [
    {
     "name": "stdout",
     "output_type": "stream",
     "text": [
      "Name:  miki\n",
      "Age:  50\n"
     ]
    }
   ],
   "source": [
    "def printinfo( name, age ):\n",
    "    print (\"Name: \", name);\n",
    "    print (\"Age: \", age);\n",
    "    return;\n",
    "printinfo( age=50, name=\"miki\" );"
   ]
  },
  {
   "cell_type": "code",
   "execution_count": 7,
   "id": "e4ba6837-4d5c-440d-9076-53b521239ce0",
   "metadata": {},
   "outputs": [
    {
     "name": "stdout",
     "output_type": "stream",
     "text": [
      "Name:  miki\n",
      "Age:  50\n",
      "Name:  miki\n",
      "Age:  35\n"
     ]
    }
   ],
   "source": [
    "def printinfo( name, age = 35 ):\n",
    "    print (\"Name: \", name);\n",
    "    print (\"Age: \", age);\n",
    "    return;\n",
    "printinfo( age=50, name=\"miki\");\n",
    "printinfo( name=\"miki\" );"
   ]
  },
  {
   "cell_type": "code",
   "execution_count": null,
   "id": "9ff9b457-ed51-4c11-9331-cbcc69b7b685",
   "metadata": {},
   "outputs": [],
   "source": [
    "def printinfo( arg1, *vartuple ):\n",
    "    print (\"Output is: \")\n",
    "    print (arg1)\n",
    "    for var in vartuple:\n",
    "        print (var)\n",
    "        return;\n",
    "printinfo( 10 );\n",
    "printinfo( 70, 60, 50 );"
   ]
  },
  {
   "cell_type": "code",
   "execution_count": null,
   "id": "9f446370-c23d-4683-b1bf-8c51cdcce67d",
   "metadata": {},
   "outputs": [],
   "source": [
    "total = 50;\n",
    "def sum( arg1, arg2 ):\n",
    "    total = arg1 + arg2;\n",
    "    print(\"Inside the function local total: \", total)\n",
    "    return total;\n",
    "sum( 10, 20 );\n",
    "print (\"Outside the function global total: \", total)\n"
   ]
  },
  {
   "cell_type": "code",
   "execution_count": null,
   "id": "b65264fa-2a8e-4f7f-b8f3-475f98eb0c30",
   "metadata": {},
   "outputs": [],
   "source": [
    "def swap(x, y):\n",
    "    global a\n",
    "    a = \"Lawal\"\n",
    "    x,y = y,x\n",
    "    b = \"Chris\"\n",
    "    b = \"Edward\"\n",
    "    c = \"Lola\"\n",
    "    print(a,b,x,y)\n",
    "    a = \"Mary\"\n",
    "swap(\"Tina\",\"Tolu\")\n",
    "print (a)"
   ]
  },
  {
   "cell_type": "code",
   "execution_count": null,
   "id": "1d799501-be4f-4f8e-865f-cdec9cf1ff84",
   "metadata": {},
   "outputs": [],
   "source": [
    "import tkinter as tk\n",
    "\n",
    "def button_click():\n",
    "    msgbox.showinfo(\"Info\", \"Welcome to COS 102 GUI A pp!\\n\")\n",
    "\n",
    "    result = msgbox.aaskyeno(\"Confirmation\", \"Do you want to continue?\")\n",
    "\n",
    "root = tk.Tk()\n",
    "root.title(\"Home Page\")\n",
    "root.geometry(\"300x100\")\n",
    "\n",
    "label = tk.Label(root, text=\"Hello Friend \\n\")\n",
    "label.pack()\n",
    "\n",
    "button = tk.Button(root, text=\"Click Me!\", command=button_click)\n",
    "button.pack()\n",
    "\n",
    "button.config(fg=\"red\", bg=\"yellow\")\n",
    "\n",
    "root.mainloop()"
   ]
  },
  {
   "cell_type": "code",
   "execution_count": 12,
   "id": "b79773e8-39cf-4c82-836e-03b51a3ea91a",
   "metadata": {},
   "outputs": [
    {
     "name": "stderr",
     "output_type": "stream",
     "text": [
      "Exception in Tkinter callback\n",
      "Traceback (most recent call last):\n",
      "  File \"/opt/anaconda3/lib/python3.11/tkinter/__init__.py\", line 1948, in __call__\n",
      "    return self.func(*args)\n",
      "           ^^^^^^^^^^^^^^^^\n",
      "  File \"/var/folders/5j/lw1qxb7j2hzbprw6nhndcvc80000gn/T/ipykernel_1604/785434735.py\", line 22, in submit\n",
      "    welcomeMessage(username)\n",
      "  File \"/var/folders/5j/lw1qxb7j2hzbprw6nhndcvc80000gn/T/ipykernel_1604/785434735.py\", line 8, in welcomeMessage\n",
      "    window.geometry(\"500X200\")\n",
      "  File \"/opt/anaconda3/lib/python3.11/tkinter/__init__.py\", line 2100, in wm_geometry\n",
      "    return self.tk.call('wm', 'geometry', self._w, newGeometry)\n",
      "           ^^^^^^^^^^^^^^^^^^^^^^^^^^^^^^^^^^^^^^^^^^^^^^^^^^^^\n",
      "_tkinter.TclError: bad geometry specifier \"500X200\"\n",
      "1   HIToolbox                           0x00000001b1da45c8 _ZN15MenuBarInstance22EnsureAutoShowObserverEv + 120\n",
      "2   HIToolbox                           0x00000001b1da4188 _ZN15MenuBarInstance14EnableAutoShowEv + 60\n",
      "3   HIToolbox                           0x00000001b1d118bc _ZN15MenuBarInstance21UpdateAggregateUIModeE21MenuBarAnimationStylehhh + 1184\n",
      "4   HIToolbox                           0x00000001b1da4004 _ZN15MenuBarInstance19SetFullScreenUIModeEjj + 180\n",
      "5   AppKit                              0x00000001abb93d30 -[NSApplication _setPresentationOptions:instance:flags:] + 956\n",
      "6   AppKit                              0x00000001aba2993c -[NSApplication _updateFullScreenPresentationOptionsForInstance:] + 404\n",
      "7   CoreFoundation                      0x00000001a8646560 __CFNOTIFICATIONCENTER_IS_CALLING_OUT_TO_AN_OBSERVER__ + 148\n",
      "8   CoreFoundation                      0x00000001a86e4044 ___CFXRegistrationPost_block_invoke + 88\n",
      "9   CoreFoundation                      0x00000001a86e3f8c _CFXRegistrationPost + 440\n",
      "10  CoreFoundation                      0x00000001a8617b64 _CFXNotificationPost + 708\n",
      "11  Foundation                          0x00000001a950738c -[NSNotificationCenter postNotificationName:object:userInfo:] + 88\n",
      "12  AppKit                              0x00000001abb942b4 spacesNotificationHandler + 96\n",
      "13  SkyLight                            0x00000001ad281214 _ZN12_GLOBAL__N_123notify_datagram_handlerEj15CGSDatagramTypePvmS1_ + 896\n",
      "14  SkyLight                            0x00000001ad5ad4d4 _ZN21CGSDatagramReadStream26dispatchMainQueueDatagramsEv + 228\n",
      "15  SkyLight                            0x00000001ad5ad3d0 ___ZN21CGSDatagramReadStream15mainQueueWakeupEv_block_invoke + 28\n",
      "16  libdispatch.dylib                   0x00000001a83e89dc _dispatch_call_block_and_release + 32\n",
      "17  libdispatch.dylib                   0x00000001a83ea504 _dispatch_client_callout + 20\n",
      "18  libdispatch.dylib                   0x00000001a83f8d1c _dispatch_main_queue_drain + 928\n",
      "19  libdispatch.dylib                   0x00000001a83f896c _dispatch_main_queue_callback_4CF + 44\n",
      "20  CoreFoundation                      0x00000001a8692d40 __CFRUNLOOP_IS_SERVICING_THE_MAIN_DISPATCH_QUEUE__ + 16\n",
      "21  CoreFoundation                      0x00000001a86507c0 __CFRunLoopRun + 2036\n",
      "22  CoreFoundation                      0x00000001a864f878 CFRunLoopRunSpecific + 612\n",
      "23  HIToolbox                           0x00000001b1d2ffa0 RunCurrentEventLoopInMode + 292\n",
      "24  HIToolbox                           0x00000001b1d2fc58 ReceiveNextEventCommon + 276\n",
      "25  HIToolbox                           0x00000001b1d2fb2c _BlockUntilNextEventMatchingListInModeWithFilter + 72\n",
      "26  AppKit                              0x00000001ab8d584c _DPSNextEvent + 632\n",
      "27  AppKit                              0x00000001ab8d49dc -[NSApplication(NSEvent) _nextEventMatchingEventMask:untilDate:inMode:dequeue:] + 728\n",
      "28  libtk8.6.dylib                      0x00000001088146dc TkMacOSXEventsCheckProc + 332\n",
      "29  libtcl8.6.dylib                     0x0000000108b21968 Tcl_DoOneEvent + 320\n",
      "30  _tkinter.cpython-311-darwin.so      0x0000000107b6a18c _tkinter_tkapp_mainloop_impl + 252\n",
      "31  python3.11                          0x0000000104b0bb78 method_vectorcall_FASTCALL + 100\n",
      "32  python3.11                          0x0000000104c3d7c4 _PyEval_EvalFrameDefault + 191820\n",
      "33  python3.11                          0x0000000104c0c43c _PyEval_Vector + 464\n",
      "34  python3.11                          0x0000000104c0c1dc PyEval_EvalCode + 248\n",
      "35  python3.11                          0x0000000104c06e98 builtin_exec + 332\n",
      "36  python3.11                          0x0000000104c410c8 _PyEval_EvalFrameDefault + 206416\n",
      "37  python3.11                          0x0000000104b16a58 gen_send_ex2 + 204\n",
      "38  python3.11                          0x0000000104c1a7f8 _PyEval_EvalFrameDefault + 48512\n",
      "39  python3.11                          0x0000000104b16a58 gen_send_ex2 + 204\n",
      "40  python3.11                          0x0000000104c1a7f8 _PyEval_EvalFrameDefault + 48512\n",
      "41  python3.11                          0x0000000104b16a58 gen_send_ex2 + 204\n",
      "42  python3.11                          0x0000000104b171b0 gen_send + 52\n",
      "43  python3.11                          0x0000000104c417bc _PyEval_EvalFrameDefault + 208196\n",
      "44  python3.11                          0x0000000104afa3cc _PyFunction_Vectorcall + 476\n",
      "45  python3.11                          0x0000000104affb18 method_vectorcall + 296\n",
      "46  python3.11                          0x0000000104c423f8 _PyEval_EvalFrameDefault + 211328\n",
      "47  python3.11                          0x0000000104b16a58 gen_send_ex2 + 204\n",
      "48  python3.11                          0x0000000104c1a7f8 _PyEval_EvalFrameDefault + 48512\n",
      "49  python3.11                          0x0000000104b16a58 gen_send_ex2 + 204\n",
      "50  python3.11                          0x0000000104c1a7f8 _PyEval_EvalFrameDefault + 48512\n",
      "51  python3.11                          0x0000000104b16a58 gen_send_ex2 + 204\n",
      "52  python3.11                          0x0000000104c1a7f8 _PyEval_EvalFrameDefault + 48512\n",
      "53  python3.11                          0x0000000104b16a58 gen_send_ex2 + 204\n",
      "54  python3.11                          0x0000000104c1a7f8 _PyEval_EvalFrameDefault + 48512\n",
      "55  python3.11                          0x0000000104b16a58 gen_send_ex2 + 204\n",
      "56  _asyncio.cpython-311-darwin.so      0x0000000105c14370 task_step_impl + 440\n",
      "57  _asyncio.cpython-311-darwin.so      0x0000000105c14128 task_step + 68\n",
      "58  _asyncio.cpython-311-darwin.so      0x0000000105c14c30 task_wakeup + 136\n",
      "59  python3.11                          0x0000000104b5d2cc cfunction_vectorcall_O + 92\n",
      "60  python3.11                          0x0000000104c62d5c _PyObject_VectorcallTstate.4607 + 88\n",
      "61  python3.11                          0x0000000104c62c20 context_run + 92\n",
      "62  python3.11                          0x0000000104b5d538 cfunction_vectorcall_FASTCALL_KEYWORDS + 76\n",
      "63  python3.11                          0x0000000104c424a0 _PyEval_EvalFrameDefault + 211496\n",
      "64  python3.11                          0x0000000104c0c43c _PyEval_Vector + 464\n",
      "65  python3.11                          0x0000000104c0c1dc PyEval_EvalCode + 248\n",
      "66  python3.11                          0x0000000104c06e98 builtin_exec + 332\n",
      "67  python3.11                          0x0000000104b5d538 cfunction_vectorcall_FASTCALL_KEYWORDS + 76\n",
      "68  python3.11                          0x0000000104c3d7c4 _PyEval_EvalFrameDefault + 191820\n",
      "69  python3.11                          0x0000000104afa3cc _PyFunction_Vectorcall + 476\n",
      "70  python3.11                          0x0000000104cc449c pymain_run_module + 212\n",
      "71  python3.11                          0x0000000104cc3fe8 Py_RunMain + 1520\n",
      "72  python3.11                          0x0000000104a9153c main + 56\n",
      "73  dyld                                0x00000001a8247e50 start + 2544\n",
      "1   HIToolbox                           0x00000001b1d2f90c _ZN15MenuBarInstance22RemoveAutoShowObserverEv + 44\n",
      "2   HIToolbox                           0x00000001b1da4fbc _ZN15MenuBarInstance15DisableAutoShowEv + 36\n",
      "3   HIToolbox                           0x00000001b1da50b0 _ZN15MenuBarInstanceD2Ev + 128\n",
      "4   HIToolbox                           0x00000001b1da4ee0 _ZN15MenuBarInstance7ReleaseEv + 56\n",
      "5   AppKit                              0x00000001abf314dc -[NSHIPresentationInstance discard] + 228\n",
      "6   AppKit                              0x00000001ac2f08b4 -[_NSFullScreenSpace(PresentationInstance) discardPresentationInstance] + 32\n",
      "7   AppKit                              0x00000001ac2f090c -[_NSFullScreenSpace(PresentationInstance) activateFullScreenPresentationOptions] + 64\n",
      "8   AppKit                              0x00000001ac14a968 -[_NSExitFullScreenTransitionController _doSucceededToExitFullScreen] + 40\n",
      "9   AppKit                              0x00000001ac14b440 __63-[_NSExitFullScreenTransitionController _performExitFullScreen]_block_invoke + 236\n",
      "10  libxpc.dylib                        0x00000001a82e242c _xpc_connection_reply_callout + 124\n",
      "11  libxpc.dylib                        0x00000001a82e231c _xpc_connection_call_reply_async + 88\n",
      "12  libdispatch.dylib                   0x00000001a83ea584 _dispatch_client_callout3 + 20\n",
      "13  libdispatch.dylib                   0x00000001a8408710 _dispatch_mach_msg_async_reply_invoke + 344\n",
      "14  libdispatch.dylib                   0x00000001a83f8c70 _dispatch_main_queue_drain + 756\n",
      "15  libdispatch.dylib                   0x00000001a83f896c _dispatch_main_queue_callback_4CF + 44\n",
      "16  CoreFoundation                      0x00000001a8692d40 __CFRUNLOOP_IS_SERVICING_THE_MAIN_DISPATCH_QUEUE__ + 16\n",
      "17  CoreFoundation                      0x00000001a86507c0 __CFRunLoopRun + 2036\n",
      "18  CoreFoundation                      0x00000001a864f878 CFRunLoopRunSpecific + 612\n",
      "19  libtcl8.6.dylib                     0x0000000108b747c0 Tcl_WaitForEvent + 320\n",
      "20  libtcl8.6.dylib                     0x0000000108b21908 Tcl_DoOneEvent + 224\n",
      "21  _tkinter.cpython-311-darwin.so      0x0000000107b6a18c _tkinter_tkapp_mainloop_impl + 252\n",
      "22  python3.11                          0x0000000104b0bb78 method_vectorcall_FASTCALL + 100\n",
      "23  python3.11                          0x0000000104c3d7c4 _PyEval_EvalFrameDefault + 191820\n",
      "24  python3.11                          0x0000000104c0c43c _PyEval_Vector + 464\n",
      "25  python3.11                          0x0000000104c0c1dc PyEval_EvalCode + 248\n",
      "26  python3.11                          0x0000000104c06e98 builtin_exec + 332\n",
      "27  python3.11                          0x0000000104c410c8 _PyEval_EvalFrameDefault + 206416\n",
      "28  python3.11                          0x0000000104b16a58 gen_send_ex2 + 204\n",
      "29  python3.11                          0x0000000104c1a7f8 _PyEval_EvalFrameDefault + 48512\n",
      "30  python3.11                          0x0000000104b16a58 gen_send_ex2 + 204\n",
      "31  python3.11                          0x0000000104c1a7f8 _PyEval_EvalFrameDefault + 48512\n",
      "32  python3.11                          0x0000000104b16a58 gen_send_ex2 + 204\n",
      "33  python3.11                          0x0000000104b171b0 gen_send + 52\n",
      "34  python3.11                          0x0000000104c417bc _PyEval_EvalFrameDefault + 208196\n",
      "35  python3.11                          0x0000000104afa3cc _PyFunction_Vectorcall + 476\n",
      "36  python3.11                          0x0000000104affb18 method_vectorcall + 296\n",
      "37  python3.11                          0x0000000104c423f8 _PyEval_EvalFrameDefault + 211328\n",
      "38  python3.11                          0x0000000104b16a58 gen_send_ex2 + 204\n",
      "39  python3.11                          0x0000000104c1a7f8 _PyEval_EvalFrameDefault + 48512\n",
      "40  python3.11                          0x0000000104b16a58 gen_send_ex2 + 204\n",
      "41  python3.11                          0x0000000104c1a7f8 _PyEval_EvalFrameDefault + 48512\n",
      "42  python3.11                          0x0000000104b16a58 gen_send_ex2 + 204\n",
      "43  python3.11                          0x0000000104c1a7f8 _PyEval_EvalFrameDefault + 48512\n",
      "44  python3.11                          0x0000000104b16a58 gen_send_ex2 + 204\n",
      "45  python3.11                          0x0000000104c1a7f8 _PyEval_EvalFrameDefault + 48512\n",
      "46  python3.11                          0x0000000104b16a58 gen_send_ex2 + 204\n",
      "47  _asyncio.cpython-311-darwin.so      0x0000000105c14370 task_step_impl + 440\n",
      "48  _asyncio.cpython-311-darwin.so      0x0000000105c14128 task_step + 68\n",
      "49  _asyncio.cpython-311-darwin.so      0x0000000105c14c30 task_wakeup + 136\n",
      "50  python3.11                          0x0000000104b5d2cc cfunction_vectorcall_O + 92\n",
      "51  python3.11                          0x0000000104c62d5c _PyObject_VectorcallTstate.4607 + 88\n",
      "52  python3.11                          0x0000000104c62c20 context_run + 92\n",
      "53  python3.11                          0x0000000104b5d538 cfunction_vectorcall_FASTCALL_KEYWORDS + 76\n",
      "54  python3.11                          0x0000000104c424a0 _PyEval_EvalFrameDefault + 211496\n",
      "55  python3.11                          0x0000000104c0c43c _PyEval_Vector + 464\n",
      "56  python3.11                          0x0000000104c0c1dc PyEval_EvalCode + 248\n",
      "57  python3.11                          0x0000000104c06e98 builtin_exec + 332\n",
      "58  python3.11                          0x0000000104b5d538 cfunction_vectorcall_FASTCALL_KEYWORDS + 76\n",
      "59  python3.11                          0x0000000104c3d7c4 _PyEval_EvalFrameDefault + 191820\n",
      "60  python3.11                          0x0000000104afa3cc _PyFunction_Vectorcall + 476\n",
      "61  python3.11                          0x0000000104cc449c pymain_run_module + 212\n",
      "62  python3.11                          0x0000000104cc3fe8 Py_RunMain + 1520\n",
      "63  python3.11                          0x0000000104a9153c main + 56\n",
      "64  dyld                                0x00000001a8247e50 start + 2544\n"
     ]
    }
   ],
   "source": [
    "import tkinter as tk\n",
    "from tkinter import messagebox\n",
    "from PIL import Image, ImageTk\n",
    "\n",
    "def welcomeMessage(username):\n",
    "    window = tk.Toplevel(root)\n",
    "    window.title(\"Admin Box\")\n",
    "    window.geometry(\"500X200\")\n",
    "\n",
    "    label_1 = tk.Label(window, text=f\"Welcome {username}\\n\")\n",
    "    label_1.pack()\n",
    "    label_2 = tk.Label(window, text=\"This is Python GUI with Tkinter\")\n",
    "    label_2.pack()\n",
    "\n",
    "    root.mainloop()\n",
    "\n",
    "def submit():\n",
    "    username = username_entry.get()\n",
    "    password = password_entry.get()\n",
    "\n",
    "    if username == \"Mary\" and password == \"cos102\":\n",
    "        welcomeMessage(username)\n",
    "    else:\n",
    "        messagebox.showerror(\"Login\", \"Invalid username or password\")\n",
    "\n",
    "root = tk.Tk()\n",
    "root.title(\"Login Form\")\n",
    "root.geometry(\"500x200\")\n",
    "\n",
    "username_label = tk.Label(root, text=\"Username:\")\n",
    "username_label.pack()\n",
    "username_entry = tk.Entry(root)\n",
    "username_entry.pack()\n",
    "\n",
    "password_label = tk.Label(root, text=\"Password:\")\n",
    "password_label.pack()\n",
    "password_entry = tk.Entry(root, show=\"*\")\n",
    "password_entry.pack()\n",
    "\n",
    "submit_button = tk.Button(root, text=\"Submit\", command=submit)\n",
    "submit_button.pack()\n",
    "\n",
    "root.mainloop()"
   ]
  },
  {
   "cell_type": "code",
   "execution_count": null,
   "id": "58b0c014-53a3-4d52-994f-1c424c333c9e",
   "metadata": {},
   "outputs": [],
   "source": []
  }
 ],
 "metadata": {
  "kernelspec": {
   "display_name": "Python 3 (ipykernel)",
   "language": "python",
   "name": "python3"
  },
  "language_info": {
   "codemirror_mode": {
    "name": "ipython",
    "version": 3
   },
   "file_extension": ".py",
   "mimetype": "text/x-python",
   "name": "python",
   "nbconvert_exporter": "python",
   "pygments_lexer": "ipython3",
   "version": "3.11.7"
  }
 },
 "nbformat": 4,
 "nbformat_minor": 5
}
