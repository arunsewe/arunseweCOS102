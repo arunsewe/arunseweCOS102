{
 "cells": [
  {
   "cell_type": "markdown",
   "metadata": {},
   "source": [
    "# What is Abstraction in OOP"
   ]
  },
  {
   "cell_type": "markdown",
   "metadata": {},
   "source": [
    "<ul><li>Abstraction is the concept of object-oriented programming that “shows” only essential attributes and “hides” unnecessary information.</li><li>The main purpose of abstraction is hiding the unnecessary details from the users. </li><li> Abstraction is selecting data from a larger pool to show only relevant details of the object to the user. </li><li> It helps in reducing programming complexity and efforts. </li><li>It is one of the most important concepts of OOPs.</li></ul> "
   ]
  },
  {
   "cell_type": "markdown",
   "metadata": {},
   "source": [
    "# Abstraction in Python"
   ]
  },
  {
   "cell_type": "markdown",
   "metadata": {},
   "source": [
    "<ul><li>Abstraction in python is defined as hiding the implementation of logic from the client and using the particular application. </li><li>It hides the irrelevant data specified in the project, reducing complexity and giving value to the efficiency.</li><li> Abstraction is made in Python using <b>Abstract classes</b> and their methods in the code.</li></ul>"
   ]
  },
  {
   "cell_type": "markdown",
   "metadata": {},
   "source": [
    "## What is an Abstract Class?"
   ]
  },
  {
   "cell_type": "markdown",
   "metadata": {},
   "source": [
    "<ul><li>Abstract Class is a type of class in OOPs, that declare one or more abstract methods. </li><li>These classes can have abstract methods as well as concrete methods. </li><li>A normal class cannot have abstract methods.</li><li>An abstract class is a class that contains at least one abstract method.</li></ul>"
   ]
  },
  {
   "cell_type": "markdown",
   "metadata": {},
   "source": [
    "## What are Abstract Methods?\n",
    "<ul><li>Abstract Method is a method that has just the method definition but does not contain implementation.</li><li>A method without a body is known as an Abstract Method.</li><li>It must be declared in an abstract class.</li><li>The abstract method will never be final because the abstract class must implement all the abstract methods.</li></ul>"
   ]
  },
  {
   "cell_type": "markdown",
   "metadata": {},
   "source": [
    "## When to use Abstract Methods & Abstract Class?\n",
    "<ul><li>Abstract methods are mostly declared where two or more subclasses are also doing the same thing in different ways through different implementations.</li><li>It also extends the same Abstract class and offers different implementations of the abstract methods.</li><li>Abstract classes help to describe generic types of behaviors and object-oriented programming class hierarchy. </li><li>It also describes subclasses to offer implementation details of the abstract class.</li></ul>"
   ]
  },
  {
   "cell_type": "markdown",
   "metadata": {},
   "source": [
    "## Difference between Abstraction and Encapsulation"
   ]
  },
  {
   "cell_type": "markdown",
   "metadata": {},
   "source": [
    "<table style=\"background-color:#ffe6e6\">\n",
    "    <tr><th><b>Abstraction</b></th><th><b>Encapsulation</b></th></tr>\n",
    "    <tr><td>Abstraction in Object Oriented Programming solves the issues at the design level.</td><td>Encapsulation solves it implementation level.</td></tr>\n",
    "    <tr><td>Abstraction in Programming is about hiding unwanted details while showing most essential information.</td><td>Encapsulation means binding the code and data into a single unit.</td></tr>\n",
    "    <tr><td>Data Abstraction in Java allows focussing on what the information object must contain</td><td>Encapsulation means hiding the internal details or mechanics of how an object does something for security reasons.</td></tr>\n",
    "</table>"
   ]
  },
  {
   "cell_type": "markdown",
   "metadata": {},
   "source": [
    "## Advantages of Abstraction\n",
    "<ol><li>The main benefit of using an Abstraction in Programming is that it allows you to group several related classes as siblings.</li><li>\n",
    "Abstraction in Object Oriented Programming helps to reduce the complexity of the design and implementation process of software.</li></ol>"
   ]
  },
  {
   "cell_type": "markdown",
   "metadata": {},
   "source": [
    "## How Abstract Base classes work : \n",
    "<ul><li>By default, Python does not provide abstract classes. Python comes with a module that provides the base for defining Abstract Base classes(ABC) and that module name is ABC. </li><li>ABC works by decorating methods of the base class as abstract and then registering concrete classes as implementations of the abstract base. </li><li>A method becomes abstract when decorated with the keyword @abstractmethod.</li></ul>"
   ]
  },
  {
   "cell_type": "markdown",
   "metadata": {},
   "source": [
    "#### Syntax\n",
    "\n",
    "Abstract class Syntax is declared as:"
   ]
  },
  {
   "cell_type": "code",
   "execution_count": 9,
   "metadata": {},
   "outputs": [
    {
     "ename": "SyntaxError",
     "evalue": "incomplete input (754344826.py, line 5)",
     "output_type": "error",
     "traceback": [
      "\u001b[0;36m  Cell \u001b[0;32mIn[9], line 5\u001b[0;36m\u001b[0m\n\u001b[0;31m    \u001b[0m\n\u001b[0m    ^\u001b[0m\n\u001b[0;31mSyntaxError\u001b[0m\u001b[0;31m:\u001b[0m incomplete input\n"
     ]
    }
   ],
   "source": [
    "from abc import ABC\n",
    "\n",
    "# declaration\n",
    "class classname(ABC):\n",
    "    "
   ]
  },
  {
   "cell_type": "markdown",
   "metadata": {},
   "source": [
    "Abstract method Syntax is declared as"
   ]
  },
  {
   "cell_type": "code",
   "execution_count": 55,
   "metadata": {},
   "outputs": [],
   "source": [
    "def abstractmethod_name():\n",
    "        "
   ]
  },
  {
   "cell_type": "markdown",
   "metadata": {},
   "source": [
    "### Few things to be noted in Python:\n",
    "\n",
    "<ul><li>In python, an abstract class can hold both an abstract method and a normal method.</li><li>\n",
    "The second point is an abstract class is not initiated (no objects are created).</li><li>\n",
    "The derived class implementation methods are defined in abstract base classes.</li></ul>"
   ]
  },
  {
   "cell_type": "code",
   "execution_count": 10,
   "metadata": {},
   "outputs": [],
   "source": [
    "from abc import ABC\n",
    "\n",
    "# here abc and ABC are case-sensitive. When we swap it creates"
   ]
  },
  {
   "cell_type": "markdown",
   "metadata": {},
   "source": [
    "### Code I:"
   ]
  },
  {
   "cell_type": "code",
   "execution_count": 58,
   "metadata": {},
   "outputs": [
    {
     "ename": "SyntaxError",
     "evalue": "unexpected EOF while parsing (<ipython-input-58-55c2ca368f90>, line 13)",
     "output_type": "error",
     "traceback": [
      "\u001b[1;36m  File \u001b[1;32m\"<ipython-input-58-55c2ca368f90>\"\u001b[1;36m, line \u001b[1;32m13\u001b[0m\n\u001b[1;33m    \u001b[0m\n\u001b[1;37m    ^\u001b[0m\n\u001b[1;31mSyntaxError\u001b[0m\u001b[1;31m:\u001b[0m unexpected EOF while parsing\n"
     ]
    }
   ],
   "source": [
    "from abc import ABC, abstractmethod\n",
    "\n",
    "# Abstract Class\n",
    "class product(abc):                    \n",
    "    \n",
    "    # Normal Method\n",
    "    def item_list(self, rate):\n",
    "        print(\"amount submitted : \",rate)\n",
    "    \n",
    "    # Abstract Method\n",
    "    @abstractmethod\n",
    "    def product(self,rate):                      \n",
    "        "
   ]
  },
  {
   "cell_type": "markdown",
   "metadata": {},
   "source": [
    "### Code II:\n",
    "A program to generate the volume of geometric shapes"
   ]
  },
  {
   "cell_type": "code",
   "execution_count": 14,
   "metadata": {},
   "outputs": [
    {
     "name": "stdout",
     "output_type": "stream",
     "text": [
      "Volume of a rectangle: 144\n",
      "Volume of a circle: 2089.9840000000004\n",
      "Volume of a square: 125\n",
      "Volume of a triangle: 10.0\n"
     ]
    }
   ],
   "source": [
    "from abc import ABC\n",
    "\n",
    "class geometric(ABC):\n",
    "    \n",
    "    def volume(self):\n",
    "        #abstract method\n",
    "        pass\n",
    "    \n",
    "class Rect(geometric):\n",
    "    length = 4\n",
    "    width = 6\n",
    "    height = 6\n",
    "    \n",
    "    def volume(self):\n",
    "        return self.length * self.width *self.height\n",
    "    \n",
    "class Sphere(geometric):\n",
    "    radius = 8\n",
    "    def volume(self):\n",
    "        return 1.3 * 3.14 * self.radius * self.radius *self.radius\n",
    "    \n",
    "class Cube(geometric):\n",
    "    Edge = 5\n",
    "    def volume(self):\n",
    "        return self.Edge * self.Edge *self.Edge\n",
    "    \n",
    "class Triangle_3D:\n",
    "    length = 5\n",
    "    width = 4\n",
    "    def volume(self):\n",
    "        return 0.5 * self.length * self.width\n",
    "    \n",
    "rr = Rect()\n",
    "ss = Sphere()\n",
    "cc = Cube()\n",
    "tt = Triangle_3D()\n",
    "print(\"Volume of a rectangle:\", rr.volume())\n",
    "print(\"Volume of a circle:\", ss.volume())\n",
    "print(\"Volume of a square:\", cc.volume())\n",
    "print(\"Volume of a triangle:\", tt.volume())"
   ]
  },
  {
   "cell_type": "markdown",
   "metadata": {},
   "source": [
    "### Code III\n",
    "A program to generate different invoices"
   ]
  },
  {
   "cell_type": "code",
   "execution_count": 20,
   "metadata": {},
   "outputs": [
    {
     "name": "stdout",
     "output_type": "stream",
     "text": [
      "paycheque of:  6500\n",
      "Purchase of the product:  6500\n",
      "True\n",
      "pay through card of:  2600\n",
      "Purchase of the product:  2600\n",
      "True\n"
     ]
    }
   ],
   "source": [
    "from abc import ABC, abstractmethod\n",
    "\n",
    "class Bill(ABC):\n",
    "    def final_bill(self, pay):\n",
    "        print('Purchase of the product: ', pay)\n",
    "        \n",
    "    @abstractmethod\n",
    "    def Invoice(self, pay):\n",
    "        pass\n",
    "    \n",
    "class Paycheque(Bill):\n",
    "    def Invoice(self, pay):\n",
    "        print('paycheque of: ', pay)\n",
    "        \n",
    "class CardPayment(Bill):\n",
    "    def Invoice(self, pay):\n",
    "        print('pay through card of: ', pay)\n",
    "        \n",
    "aa = Paycheque()\n",
    "aa.Invoice(6500)\n",
    "aa.final_bill(6500)\n",
    "print(isinstance(aa, Paycheque))\n",
    "aa = CardPayment()\n",
    "aa.Invoice(2600)\n",
    "aa.final_bill(2600)\n",
    "print(isinstance(aa, CardPayment))"
   ]
  },
  {
   "cell_type": "markdown",
   "metadata": {},
   "source": [
    "### Code IV:\n",
    " Python program showing abstract base class work"
   ]
  },
  {
   "cell_type": "code",
   "execution_count": 23,
   "metadata": {},
   "outputs": [
    {
     "name": "stdout",
     "output_type": "stream",
     "text": [
      "I can walk and run\n",
      "I can crawl\n",
      "I can bark\n",
      "I can roar\n"
     ]
    }
   ],
   "source": [
    "from abc import ABC, abstractmethod\n",
    "\n",
    "class Animal(ABC):\n",
    "\n",
    "    @abstractmethod\n",
    "    def move(self):\n",
    "        pass\n",
    "\n",
    "class Human(Animal):\n",
    "    \n",
    "    def move(self):\n",
    "        print(\"I can walk and run\")\n",
    "\n",
    "class Snake(Animal):\n",
    "    \n",
    "    def move(self):\n",
    "        print(\"I can crawl\")\n",
    "\n",
    "class Dog(Animal):\n",
    "\n",
    "    def move(self):\n",
    "        print(\"I can bark\")\n",
    "\n",
    "class Lion(Animal):\n",
    "    \n",
    "    def move(self):\n",
    "        print(\"I can roar\")\n",
    "\n",
    "# Object Instantiation\n",
    "R = Human()\n",
    "R.move()\n",
    "\n",
    "K = Snake()\n",
    "K.move()\n",
    "\n",
    "r = Dog()\n",
    "r.move()\n",
    "\n",
    "k = Lion()\n",
    "k.move()\n"
   ]
  },
  {
   "cell_type": "markdown",
   "metadata": {},
   "source": [
    "### Concrete Methods in Abstract Base Classes : \n",
    "<ul><li>Concrete (normal) classes contain only concrete (normal) methods whereas abstract classes may contain both concrete methods and abstract methods.</li><li> The concrete class provides an implementation of abstract methods, the abstract base class can also provide an implementation by invoking the methods via super().</li></ul>"
   ]
  },
  {
   "cell_type": "markdown",
   "metadata": {},
   "source": [
    "### Code V:\n",
    "Python program invoking a method using super()"
   ]
  },
  {
   "cell_type": "code",
   "execution_count": 30,
   "metadata": {},
   "outputs": [
    {
     "name": "stdout",
     "output_type": "stream",
     "text": [
      "Abstract Base Class\n",
      "subclass\n"
     ]
    }
   ],
   "source": [
    "from abc import ABC, abstractmethod\n",
    "\n",
    "class Zinc(ABC):\n",
    "    \n",
    "    def rk(self):\n",
    "        print(\"Abstract Base Class\")\n",
    "\n",
    "class Tin(Zinc):\n",
    "    def rk(self):\n",
    "        super().rk()\n",
    "        print(\"subclass\")\n",
    "\n",
    "# Object instantiation\n",
    "r = Tin()\n",
    "r.rk()\n"
   ]
  },
  {
   "cell_type": "markdown",
   "metadata": {},
   "source": [
    "### Code VI:"
   ]
  },
  {
   "cell_type": "code",
   "execution_count": 33,
   "metadata": {},
   "outputs": [
    {
     "ename": "IndentationError",
     "evalue": "expected an indented block after function definition on line 8 (160587769.py, line 10)",
     "output_type": "error",
     "traceback": [
      "\u001b[0;36m  Cell \u001b[0;32mIn[33], line 10\u001b[0;36m\u001b[0m\n\u001b[0;31m    class private(Bank):\u001b[0m\n\u001b[0m    ^\u001b[0m\n\u001b[0;31mIndentationError\u001b[0m\u001b[0;31m:\u001b[0m expected an indented block after function definition on line 8\n"
     ]
    }
   ],
   "source": [
    "from abc import ABC, abstractmethod\n",
    "\n",
    "class Bank(ABC):\n",
    "    def branch(self, Naira):\n",
    "        print(\"Fees submitted : \",Naira)\n",
    "   \n",
    "    @abstractmethod\n",
    "    def Bank(Naira):\n",
    "        \n",
    "    \n",
    "class private(Bank):\n",
    "    def Bank(naira):\n",
    "        print(\"Total Naira Value here: \",Naira)\n",
    "        \n",
    "class public(bank):\n",
    "    def Bank(Naira):\n",
    "        print(\"Total Naira Value here:\",Naira)\n",
    "\n",
    "protected.Bank(5000)\n",
    "public.Bank(2000)\n",
    "\n",
    "a = public()\n",
    "#a.branch(3500)"
   ]
  },
  {
   "cell_type": "markdown",
   "metadata": {},
   "source": [
    "## Class Project I"
   ]
  },
  {
   "cell_type": "markdown",
   "metadata": {},
   "source": [
    "Develop a python OOP program that creates an abstract base class called coup_de_ecriva.  The base class will have one abstract method called <b>Fan_Page</b> and four subclassses namely; <b>FC_Cirok, Madiba_FC, Blue_Jay_FC and TSG_Walker</b>. The program will receive as input the name of the club the user supports and instantiate an object that will invoke the <b>Fan_Page</b> method in the subclass that prints Welcome to <b>\"club name\"</b>.\n",
    "\n",
    "<p><b>Hint:</b></p>\n",
    "The subclasses will use <b>Single Inheritance</b> to inherit the abstract base class.\n",
    " "
   ]
  },
  {
   "cell_type": "code",
   "execution_count": 15,
   "metadata": {},
   "outputs": [
    {
     "name": "stdin",
     "output_type": "stream",
     "text": [
      "Input the name of your club:  Madiba\n"
     ]
    },
    {
     "name": "stdout",
     "output_type": "stream",
     "text": [
      "Welcome to Madiba FC\n"
     ]
    }
   ],
   "source": [
    "from abc import ABC, abstractmethod\n",
    "\n",
    "class Coup_De_Escriva(ABC):\n",
    "    @abstractmethod\n",
    "    def Fan_page(self):\n",
    "        pass\n",
    "\n",
    "class Cirok_FC(Coup_De_Escriva):\n",
    "    def Fan_page(self):\n",
    "        print(\"Welcome to Cirok FC\")\n",
    "\n",
    "class Madiba_FC(Coup_De_Escriva):\n",
    "    def Fan_page(self):\n",
    "        print(\"Welcome to Madiba FC\")\n",
    "\n",
    "class Blue_Jay_FC(Coup_De_Escriva):\n",
    "    def Fan_page(self):\n",
    "        print(\"Welcome to Blue Jays FC\")\n",
    "\n",
    "class TSG_Walker_FC(Coup_De_Escriva):\n",
    "    def Fan_page(self):\n",
    "        print(\"Welcome to TSG WalkerS FC\")\n",
    "\n",
    "\n",
    "        \n",
    "def get_club_instance(club_name):\n",
    "    club_classes = {\n",
    "        \"Cirok\": Cirok_FC,\n",
    "        \"Madiba\": Madiba_FC,\n",
    "        \"Blue Jay\": Blue_Jay_FC,\n",
    "        \"TSG Walker\": TSG_Walker_FC\n",
    "    }\n",
    "    return club_classes.get(club_name)\n",
    "\n",
    "def main():\n",
    "    club_name = input(\"Input the name of your club: \").strip()\n",
    "    club_class = get_club_instance(club_name)\n",
    "    \n",
    "    if club_class:\n",
    "        club_instance = club_class()\n",
    "        club_instance.Fan_page()\n",
    "    else:\n",
    "        print(\"The club you entered is not in our system.\")\n",
    "\n",
    "if __name__ == \"__main__\":\n",
    "    main()"
   ]
  },
  {
   "cell_type": "markdown",
   "metadata": {},
   "source": [
    "## Class Project II"
   ]
  },
  {
   "cell_type": "markdown",
   "metadata": {},
   "source": [
    "The Service Unit of PAU has contacted you to develop a program to manage some of the External Food Vendors. With your knowledge in python GUI and OOP develop a program to manage the PAU External Food Vendors. The program receives as input the vendor of interest and display the menu of the interested vendor. The External vendors are Faith hostel, Cooperative Hostel, and Student Center. Find below the menus:\n",
    "\n",
    "<table><tr><td>\n",
    "<table style=\"background-color:#47b5ff\">\n",
    "    <tr><th colspan='2'>Cooperative Cafeteria</th></tr>\n",
    "    <tr><th>Main Meal</th><th>Price (N)</th></tr>\n",
    "    <tr><td>Jollof Rice and Stew</td><td>200</td></tr>\n",
    "    <tr><td>White Rice and Stew</td><td>200</td></tr>\n",
    "    <tr><td>Fried Rice</td><td>200</td></tr>\n",
    "    <tr><td>Salad</td><td>100</td></tr>\n",
    "    <tr><td>Platain</td><td>100</td></tr>\n",
    "</table>\n",
    "    </td><td>\n",
    "<table style=\"background-color:pink\">\n",
    "    <tr><th colspan='2'>Faith Hostel Cafeteria</th></tr>\n",
    "    <tr><th>Main Meal</th><th>Price (N)</th></tr>\n",
    "    <tr><td>Fried Rice</td><td>400</td></tr>\n",
    "    <tr><td>White Rice and Stew</td><td>400</td></tr>\n",
    "    <tr><td>Jollof Rice</td><td>400</td></tr>\n",
    "    <tr><td>Beans</td><td>200</td></tr>\n",
    "    <tr><td>Chicken</td><td>1000</td></tr>\n",
    "</table>\n",
    "    </td><td>\n",
    "    <table style=\"background-color:#fcf96c\">\n",
    "    <tr><th colspan='2'>Student Centre Cafeteria</th></tr>\n",
    "    <tr><th>Main Meal</th><th>Price (N)</th></tr>\n",
    "    <tr><td>Chicken Fried Rice</td><td>800</td></tr>\n",
    "    <tr><td>Pomo Sauce</td><td>300</td></tr>\n",
    "    <tr><td>Spaghetti Jollof</td><td>500</td></tr>\n",
    "    <tr><td>Amala/Ewedu</td><td>500</td></tr>\n",
    "    <tr><td>Semo with Eforiro Soup</td><td>500</td></tr>\n",
    "</table>\n",
    "    </td></tr>\n",
    "<table>\n",
    "    \n",
    "<p><b>Hints:</b></p>\n",
    "    <ul><li>The abstract base class is called <b>External_Vendors()</b>.</li><li>\n",
    "        The abstract method is called <b>menu()</b>.</li><li>\n",
    "The subclasses (the different vendors) will inherit the abstract base class.</li><li>\n",
    "        Each subclass will have a normal method called <b>menu()</b>.</li></ul>\n",
    "    \n",
    "       "
   ]
  },
  {
   "cell_type": "code",
   "execution_count": 36,
   "metadata": {},
   "outputs": [
    {
     "name": "stdout",
     "output_type": "stream",
     "text": [
      "Jollof Rice and Stew: ₦200\n",
      "White Rice and Stew: ₦200\n",
      "Fried Rice: ₦200\n",
      " Salad: ₦100\n",
      "Plantain: ₦100\n",
      "Fried Rice: ₦400\n",
      "White Rice and Stew: ₦400\n",
      "Jollof Rice: ₦400\n",
      "Beans: ₦200\n",
      "Chicken: ₦1000\n"
     ]
    },
    {
     "data": {
      "text/plain": [
       "'Vendor does not exist'"
      ]
     },
     "execution_count": 36,
     "metadata": {},
     "output_type": "execute_result"
    }
   ],
   "source": [
    "from abc import ABC, abstractmethod\n",
    "\n",
    "class External_Vendors(ABC):\n",
    "    @abstractmethod\n",
    "    def menu(self):\n",
    "        pass\n",
    "    \n",
    "class Cooperative_Cafeteria(External_Vendors):\n",
    "    def menu(self):\n",
    "        return {\"Jollof Rice and Stew\": 200, \"White Rice and Stew\": 200, \"Fried Rice\": 200, \" Salad\": 100, \"Plantain\": 100}\n",
    "    \n",
    "class Faith_Hostel_Cafeteria(External_Vendors):\n",
    "    def menu(self):\n",
    "        return{\"Fried Rice\": 400, \"White Rice and Stew\": 400, \"Jollof Rice\": 400, \"Beans\": 200, \"Chicken\": 1000}\n",
    "    \n",
    "class Student_Center_Cafeteria(External_Vendors):\n",
    "    def menu(self):\n",
    "        return{\"Chicken Fried Rice\": 800, \"Pomo Sauce\": 300, \"Spaghetti Jollof\": 500, \"Amala/Ewedu\": 500, \"Semo with Eforiro Soup\": 500}\n",
    "    \n",
    "def Display_menu(vendor1):\n",
    "    if vendor1 == \"Cooperative Cafeteria\":\n",
    "        vendor = Cooperative_Cafeteria()\n",
    "    elif vendor1 == \"Faith Hostel Cafeteria\":\n",
    "        vendor = Faith_Hostel_Cafeteria()\n",
    "    elif vendor1 == \"Student Center Cafeteria\":\n",
    "        vendor = Student_Center_Cafeteria()\n",
    "    else:\n",
    "        return \"Vendor does not exist\"\n",
    "    \n",
    "    menu = vendor.menu()\n",
    "    for item, price in menu.items():\n",
    "        print(f\"{item}: ₦{price}\")\n",
    "        \n",
    "Display_menu(\"Cooperative Cafeteria\")\n",
    "Display_menu(\"Faith Hostel Cafeteria\")\n",
    "Display_menu(\"Student Centre Cafeteria\")"
   ]
  },
  {
   "cell_type": "code",
   "execution_count": null,
   "metadata": {},
   "outputs": [],
   "source": []
  }
 ],
 "metadata": {
  "kernelspec": {
   "display_name": "Python 3 (ipykernel)",
   "language": "python",
   "name": "python3"
  },
  "language_info": {
   "codemirror_mode": {
    "name": "ipython",
    "version": 3
   },
   "file_extension": ".py",
   "mimetype": "text/x-python",
   "name": "python",
   "nbconvert_exporter": "python",
   "pygments_lexer": "ipython3",
   "version": "3.11.7"
  }
 },
 "nbformat": 4,
 "nbformat_minor": 4
}
