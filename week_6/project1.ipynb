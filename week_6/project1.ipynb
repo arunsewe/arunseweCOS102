{
 "cells": [
  {
   "cell_type": "code",
   "execution_count": 2,
   "id": "8d050c0b-ed81-4954-aaa3-4ac981d612ad",
   "metadata": {},
   "outputs": [],
   "source": [
    "import tkinter as tk\n",
    "from tkinter import messagebox\n",
    "\n",
    "\n",
    "\n",
    "def welcomeMessage(location,weight,price):\n",
    "    window = tk.Toplevel(root)\n",
    "    window.title(\"Simi Services\")\n",
    "    window.geometry(\"1000x500\")\n",
    "    label_1 = tk.Label(window, text=f\"Delivery to {location}\\n\")\n",
    "    label_1.pack()\n",
    "    label_2 = tk.Label(window, text=f\"Package weight: {weight}\")\n",
    "    label_2.pack()\n",
    "    label_3 = tk.Label(window, text=f\"The delivery price is {price}\")\n",
    "    label_3.pack()\n",
    "\n",
    "\n",
    "def enter():\n",
    "    location = location_entry.get()\n",
    "    weight = float(weight_entry.get())\n",
    "    \n",
    "    if location == \"Ibeju-Lekki\" and weight >= 10.0:\n",
    "        price = 5000\n",
    "        welcomeMessage(location,weight,price)\n",
    "    elif location == \"Ibeju-Lekki\" and weight < 10.0:\n",
    "        price = 3500\n",
    "        welcomeMessage(location,weight,price)\n",
    "    elif location == \"Epe\" and weight >= 10.0:\n",
    "        price = 10000\n",
    "        welcomeMessage(location,weight,price)\n",
    "    elif location == \"Epe\" and weight < 10.0:\n",
    "        price = 5000\n",
    "        welcomeMessage(location,weight,price)\n",
    "    else:\n",
    "        messagebox.showerror(\"Location\", \"Location cannot be found\")\n",
    "\n",
    "\n",
    "root = tk.Tk()\n",
    "root.title(\"Dispatch form\")\n",
    "root.geometry(\"1000x500\")\n",
    "location_label = tk.Label(root, text =\"Location\")\n",
    "location_label.pack()\n",
    "location_entry = tk.Entry(root)\n",
    "location_entry.pack()\n",
    "\n",
    "weight_label = tk.Label(root, text =\"Weight\")\n",
    "weight_label.pack()\n",
    "weight_entry = tk.Entry(root)\n",
    "weight_entry.pack()\n",
    "\n",
    "enter_button = tk.Button(root, text = \"Enter\", command=enter)\n",
    "enter_button.pack()\n",
    "enter_button.config(fg='Black')\n",
    "\n",
    "root.mainloop()\n",
    "              "
   ]
  },
  {
   "cell_type": "code",
   "execution_count": null,
   "id": "5459897e-a404-42d0-9e30-96219d0be4c0",
   "metadata": {},
   "outputs": [],
   "source": []
  }
 ],
 "metadata": {
  "kernelspec": {
   "display_name": "Python 3 (ipykernel)",
   "language": "python",
   "name": "python3"
  },
  "language_info": {
   "codemirror_mode": {
    "name": "ipython",
    "version": 3
   },
   "file_extension": ".py",
   "mimetype": "text/x-python",
   "name": "python",
   "nbconvert_exporter": "python",
   "pygments_lexer": "ipython3",
   "version": "3.11.7"
  }
 },
 "nbformat": 4,
 "nbformat_minor": 5
}
