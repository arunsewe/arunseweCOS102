{
 "cells": [
  {
   "cell_type": "code",
   "execution_count": 13,
   "id": "1fe4d3b2-cb25-44fe-850a-2c66f51de309",
   "metadata": {},
   "outputs": [
    {
     "name": "stdout",
     "output_type": "stream",
     "text": [
      "Welcome to Izifin Technology!\n"
     ]
    },
    {
     "name": "stdin",
     "output_type": "stream",
     "text": [
      "How old are you? 56\n",
      "How many years of experience do you have? 26\n"
     ]
    },
    {
     "name": "stdout",
     "output_type": "stream",
     "text": [
      "Your Annual Tax Revenue(ATR) is ₦5,600,000.00\n"
     ]
    }
   ],
   "source": [
    "print(\"Welcome to Izifin Technology!\")\n",
    "\n",
    "age = int(input(\"How old are you?\"))\n",
    "exp =int(input(\"How many years of experience do you have?\"))\n",
    "\n",
    "if (exp > 25) & (age >= 55):\n",
    "               print(\"Your Annual Tax Revenue(ATR) is ₦5,600,000.00\")\n",
    "elif (exp > 20) & (age >= 45):\n",
    "               print(\"Your Annual Tax Revenue(ATR) is ₦4,480,000.00\")\n",
    "elif (exp > 10) & (age >= 35): \n",
    "               print(\"Your Annual Tax Revenue(ATR) is ₦1,500,000.00\")\n",
    "elif (exp < 10) & (age < 35):\n",
    "               print(\"Your Annual Tax Revenue(ATR) is ₦550,000.00\")\n",
    "else:\n",
    "    print(\"Contact management for further information\")"
   ]
  },
  {
   "cell_type": "code",
   "execution_count": null,
   "id": "8014c67a-875c-4348-a5e5-0b0047ae0eaf",
   "metadata": {},
   "outputs": [],
   "source": []
  }
 ],
 "metadata": {
  "kernelspec": {
   "display_name": "Python 3 (ipykernel)",
   "language": "python",
   "name": "python3"
  },
  "language_info": {
   "codemirror_mode": {
    "name": "ipython",
    "version": 3
   },
   "file_extension": ".py",
   "mimetype": "text/x-python",
   "name": "python",
   "nbconvert_exporter": "python",
   "pygments_lexer": "ipython3",
   "version": "3.11.7"
  }
 },
 "nbformat": 4,
 "nbformat_minor": 5
}
