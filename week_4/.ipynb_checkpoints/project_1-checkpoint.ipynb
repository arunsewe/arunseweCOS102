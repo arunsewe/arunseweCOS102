{
 "cells": [
  {
   "cell_type": "code",
   "execution_count": 13,
   "id": "71bb918b-4d4d-42ea-a441-782aeaee978f",
   "metadata": {},
   "outputs": [
    {
     "name": "stdout",
     "output_type": "stream",
     "text": [
      "Name      ['Age', 'Height', 'Score']\n",
      "----------------------------------------\n",
      "Evelyn    ['17', '5.5', '80']\n",
      "Jessica   ['16', '6.0', '85']\n",
      "Somto     ['17', '5.4', '70']\n",
      "Edith     ['18', '5.9', '60']\n",
      "Liza      ['16', '5.6', '76']\n",
      "Madonna   ['18', '5.5', '66']\n",
      "Waje      ['17', '6.1', '87']\n",
      "Tola      ['20', '6.0', '95']\n",
      "Aisha     ['19', '5.7', '50']\n",
      "Latifa    ['17', '5.5', '49']\n",
      "Chinedu   ['19', '5.7', '74']\n",
      "Liam      ['16', '5.9', '87']\n",
      "Wale      ['18', '5.8', '75']\n",
      "Gbenga    ['17', '6.1', '68']\n",
      "Abiola    ['20', '5.9', '66']\n",
      "Kola      ['19', '5.5', '78']\n",
      "Kunle     ['16', '6.1', '87']\n",
      "George    ['18', '5.4', '98']\n",
      "Thomas    ['17', '5.8', '54']\n",
      "Wesley    ['19', '5.7', '60']\n"
     ]
    }
   ],
   "source": [
    "categories = {\"Name     \": [\"Age\", \"Height\", \"Score\"]}\n",
    "for pick in categories:\n",
    "    print(pick, categories[pick])\n",
    "print(\"----------------------------------------\")\n",
    "girls = {\"Evelyn   \": [\"17\", \"5.5\", \"80\"],\n",
    "         \"Jessica  \": [\"16\", \"6.0\", \"85\"],\n",
    "         \"Somto    \": [\"17\", \"5.4\", \"70\"],\n",
    "         \"Edith    \": [\"18\", \"5.9\", \"60\"],\n",
    "         \"Liza     \": [\"16\", \"5.6\", \"76\"],\n",
    "         \"Madonna  \": [\"18\", \"5.5\", \"66\"],\n",
    "         \"Waje     \": [\"17\", \"6.1\", \"87\"],\n",
    "         \"Tola     \": [\"20\", \"6.0\", \"95\"],\n",
    "         \"Aisha    \": [\"19\", \"5.7\", \"50\"],\n",
    "         \"Latifa   \": [\"17\", \"5.5\", \"49\"]}\n",
    "\n",
    "\n",
    "for pick in girls:\n",
    "    print(pick, girls[pick])\n",
    "    \n",
    "boys = {\"Chinedu  \": [\"19\", \"5.7\", \"74\"],\n",
    "        \"Liam     \": [\"16\", \"5.9\", \"87\"],\n",
    "        \"Wale     \": [\"18\", \"5.8\", \"75\"],\n",
    "        \"Gbenga   \": [\"17\", \"6.1\", \"68\"],\n",
    "        \"Abiola   \": [\"20\", \"5.9\", \"66\"],\n",
    "        \"Kola     \": [\"19\", \"5.5\", \"78\"],\n",
    "        \"Kunle    \": [\"16\", \"6.1\", \"87\"],\n",
    "        \"George   \": [\"18\", \"5.4\", \"98\"],\n",
    "        \"Thomas   \": [\"17\", \"5.8\", \"54\"],\n",
    "        \"Wesley   \": [\"19\", \"5.7\", \"60\"]}\n",
    "\n",
    "for pick in boys:\n",
    "    print(pick, boys[pick])\n"
   ]
  },
  {
   "cell_type": "code",
   "execution_count": 14,
   "id": "61a53a6f-9c3d-4f75-8007-612024e7143a",
   "metadata": {},
   "outputs": [
    {
     "name": "stdout",
     "output_type": "stream",
     "text": [
      "Name \t\t| Age \t| Height \t| Score\n",
      "--------------------------------------\n",
      "Evelyn     \t| 17 \t| 5.5    \t| 80\n",
      "Jessica    \t| 16 \t| 6.0    \t| 85\n",
      "Somto      \t| 17 \t| 5.4    \t| 70\n",
      "Edith      \t| 18 \t| 5.9    \t| 60\n",
      "Liza       \t| 16 \t| 5.6    \t| 76\n",
      "Madonna    \t| 18 \t| 5.5    \t| 66\n",
      "Waje       \t| 17 \t| 6.1    \t| 87\n",
      "Tola       \t| 20 \t| 6.0    \t| 95\n",
      "Aisha      \t| 19 \t| 5.7    \t| 50\n",
      "Latifa     \t| 17 \t| 5.5    \t| 49\n",
      "Chinedu \t| 19 \t| 5.7 \t\t| 74\n",
      "Liam    \t| 16 \t| 5.9 \t\t| 87\n",
      "Wale    \t| 18 \t| 5.8 \t\t| 75\n",
      "Gbenga  \t| 17 \t| 6.1 \t\t| 68\n",
      "Abiola  \t| 20 \t| 5.9 \t\t| 66\n",
      "Kola    \t| 19 \t| 5.5 \t\t| 78\n",
      "Kunle   \t| 16 \t| 6.1 \t\t| 87\n",
      "George  \t| 18 \t| 5.4 \t\t| 98\n",
      "Thomas  \t| 17 \t| 5.8 \t\t| 54\n",
      "Wesley  \t| 19 \t| 5.7 \t\t| 60\n"
     ]
    }
   ],
   "source": [
    "categories = {\"Name\": [\"Age\",\"Height\",\"Score\"]}\n",
    "for i in categories:\n",
    "    print(i, \"\\t\\t|\", categories[i][0], \"\\t|\", categories[i][1], \"\\t|\", categories[i][2],)\n",
    "\n",
    "print(\"--------------------------------------\")\n",
    "\n",
    "girls = {\"Evelyn    \": [\"17\",\"5.5   \",\"80\"],\n",
    "         \"Jessica   \": [\"16\",\"6.0   \",\"85\"],\n",
    "         \"Somto     \": [\"17\",\"5.4   \",\"70\"],\n",
    "         \"Edith     \": [\"18\",\"5.9   \",\"60\"],\n",
    "         \"Liza      \": [\"16\",\"5.6   \",\"76\"],\n",
    "         \"Madonna   \": [\"18\",\"5.5   \",\"66\"],\n",
    "         \"Waje      \": [\"17\",\"6.1   \",\"87\"],\n",
    "         \"Tola      \": [\"20\",\"6.0   \",\"95\"],\n",
    "         \"Aisha     \": [\"19\",\"5.7   \",\"50\"],\n",
    "         \"Latifa    \": [\"17\",\"5.5   \",\"49\"]}\n",
    "\n",
    "boys = {\"Chinedu\": [\"19\",\"5.7\",\"74\"],\n",
    "        \"Liam   \": [\"16\",\"5.9\",\"87\"],\n",
    "        \"Wale   \": [\"18\",\"5.8\",\"75\"],\n",
    "        \"Gbenga \": [\"17\",\"6.1\",\"68\"],\n",
    "        \"Abiola \": [\"20\",\"5.9\",\"66\"],\n",
    "        \"Kola   \": [\"19\",\"5.5\",\"78\"],\n",
    "        \"Kunle  \": [\"16\",\"6.1\",\"87\"],\n",
    "        \"George \": [\"18\",\"5.4\",\"98\"],\n",
    "        \"Thomas \": [\"17\",\"5.8\",\"54\"],\n",
    "        \"Wesley \": [\"19\",\"5.7\",\"60\"]}\n",
    "\n",
    "\n",
    "for student in girls:\n",
    "    print(student, \"\\t|\",girls[student][0], \"\\t|\", girls[student][1], \"\\t|\", girls[student][2],)\n",
    "\n",
    "for students in boys:\n",
    "    print(students, \"\\t|\", boys[students][0], \"\\t|\", boys[students][1], \"\\t\\t|\", boys[students][2], )"
   ]
  },
  {
   "cell_type": "code",
   "execution_count": null,
   "id": "8d75dea7-3db2-4c2c-af66-8e3122e5675c",
   "metadata": {},
   "outputs": [],
   "source": []
  }
 ],
 "metadata": {
  "kernelspec": {
   "display_name": "Python 3 (ipykernel)",
   "language": "python",
   "name": "python3"
  },
  "language_info": {
   "codemirror_mode": {
    "name": "ipython",
    "version": 3
   },
   "file_extension": ".py",
   "mimetype": "text/x-python",
   "name": "python",
   "nbconvert_exporter": "python",
   "pygments_lexer": "ipython3",
   "version": "3.11.7"
  }
 },
 "nbformat": 4,
 "nbformat_minor": 5
}
