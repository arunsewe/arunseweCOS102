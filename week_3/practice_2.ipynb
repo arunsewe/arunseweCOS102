{
 "cells": [
  {
   "cell_type": "code",
   "execution_count": null,
   "id": "61b2ea35-5739-4927-aaf6-7a07f0de2a31",
   "metadata": {},
   "outputs": [],
   "source": [
    "m = float(input(\"Enter mass in  kilograms: \"))\n",
    "\n",
    "c = 299792458\n",
    "\n",
    "energy = m * c ** 2\n",
    "\n",
    "print(f\"The energy equivalent to {m} kg of mass is {energy} joules.\")\n"
   ]
  },
  {
   "cell_type": "code",
   "execution_count": null,
   "id": "66e69916-e889-4e27-9e47-be3bdfb6905e",
   "metadata": {},
   "outputs": [],
   "source": []
  }
 ],
 "metadata": {
  "kernelspec": {
   "display_name": "Python 3 (ipykernel)",
   "language": "python",
   "name": "python3"
  },
  "language_info": {
   "codemirror_mode": {
    "name": "ipython",
    "version": 3
   },
   "file_extension": ".py",
   "mimetype": "text/x-python",
   "name": "python",
   "nbconvert_exporter": "python",
   "pygments_lexer": "ipython3",
   "version": "3.11.7"
  }
 },
 "nbformat": 4,
 "nbformat_minor": 5
}
