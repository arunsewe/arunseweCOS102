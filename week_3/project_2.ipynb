{
 "cells": [
  {
   "cell_type": "code",
   "execution_count": 3,
   "id": "a2689f18-7087-4d07-a0be-35206e65c4bb",
   "metadata": {
    "scrolled": true
   },
   "outputs": [
    {
     "name": "stdout",
     "output_type": "stream",
     "text": [
      "Mathematical Calculator\n"
     ]
    },
    {
     "name": "stdin",
     "output_type": "stream",
     "text": [
      "Which equation would you like to carry out quadratic or cubic cubic\n",
      "What is the value of a? 2\n",
      "What is the value of b? -5\n",
      "What is the value of c? 2\n",
      "What is the value of d? 5\n"
     ]
    },
    {
     "name": "stdout",
     "output_type": "stream",
     "text": [
      "The roots of the cubic equation are -5.0, 2.0, and 0.5\n"
     ]
    }
   ],
   "source": [
    "print(\"Mathematical Calculator\")\n",
    "\n",
    "compute = input(\"Which equation would you like to carry out quadratic or cubic\")\n",
    "\n",
    "if compute == 'quadratic':\n",
    "    a = float(input(\"What is the value of a?\"))\n",
    "    b = float(input(\"What is the value of b?\"))\n",
    "    c = float(input(\"What is the value of c?\"))\n",
    "    x1 = ((-1.0 * b) + ( (b * b) - ( 4.0 * a * c))**0.5 ) / (2.0 * a)\n",
    "   \n",
    "    x2 = ((-1.0 * b) - ( (b * b) - ( 4.0 * a * c))**0.5 ) / (2.0 * a)\n",
    "    print(f\"The roots of the equation are {x1} and {x2}\")\n",
    "\n",
    "elif compute == 'cubic':\n",
    "    a = float(input(\"What is the value of a?\"))\n",
    "    b = float(input(\"What is the value of b?\"))\n",
    "    c = float(input(\"What is the value of c?\"))\n",
    "    d = float(input(\"What is the value of d?\"))\n",
    "    x1 = -d \n",
    "    x2 = ((-1.0 * b) + ( (b * b) - ( 4.0 * a * c))**0.5 ) / (2.0 * a)\n",
    "    x3 = ((-1.0 * b) - ( (b * b) - ( 4.0 * a * c))**0.5 ) / (2.0 * a)\n",
    "    print(f\"The roots of the cubic equation are {x1}, {x2}, and {x3}\")"
   ]
  },
  {
   "cell_type": "code",
   "execution_count": null,
   "id": "1e9e9de4-6499-4e3c-8e3f-5ccf32dd7753",
   "metadata": {},
   "outputs": [],
   "source": []
  }
 ],
 "metadata": {
  "kernelspec": {
   "display_name": "Python 3 (ipykernel)",
   "language": "python",
   "name": "python3"
  },
  "language_info": {
   "codemirror_mode": {
    "name": "ipython",
    "version": 3
   },
   "file_extension": ".py",
   "mimetype": "text/x-python",
   "name": "python",
   "nbconvert_exporter": "python",
   "pygments_lexer": "ipython3",
   "version": "3.11.7"
  }
 },
 "nbformat": 4,
 "nbformat_minor": 5
}
