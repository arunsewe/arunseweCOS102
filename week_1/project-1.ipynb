{
 "cells": [
  {
   "cell_type": "code",
   "execution_count": 4,
   "id": "48d3f2c3-4381-4732-8a3a-93179be50f7c",
   "metadata": {},
   "outputs": [
    {
     "name": "stdin",
     "output_type": "stream",
     "text": [
      "What is the principal? 100\n",
      "What is the rate? 5\n",
      "What is the time? 2\n"
     ]
    },
    {
     "name": "stdout",
     "output_type": "stream",
     "text": [
      "The simple interest = 110.00000000000001\n"
     ]
    }
   ],
   "source": [
    "#simple interest\n",
    "principal = input(\"What is the principal?\")\n",
    "rate = input(\"What is the rate?\")\n",
    "time = input(\"What is the time(in years)?\")\n",
    "\n",
    "#data type\n",
    "p = float(principal)\n",
    "r = float(rate)\n",
    "t = float(time)\n",
    "\n",
    "#calculation\n",
    "amount = p * (1 + (r/100) * t)\n",
    "\n",
    "#print\n",
    "print(\"The simple interest = \" + str(amount))"
   ]
  },
  {
   "cell_type": "code",
   "execution_count": null,
   "id": "b3d00ad2-5867-4122-bbef-bf2c4f334014",
   "metadata": {},
   "outputs": [],
   "source": []
  }
 ],
 "metadata": {
  "kernelspec": {
   "display_name": "Python 3 (ipykernel)",
   "language": "python",
   "name": "python3"
  },
  "language_info": {
   "codemirror_mode": {
    "name": "ipython",
    "version": 3
   },
   "file_extension": ".py",
   "mimetype": "text/x-python",
   "name": "python",
   "nbconvert_exporter": "python",
   "pygments_lexer": "ipython3",
   "version": "3.11.7"
  }
 },
 "nbformat": 4,
 "nbformat_minor": 5
}
