{
 "cells": [
  {
   "cell_type": "code",
   "execution_count": 1,
   "id": "14938ee5-5aa1-485b-a333-a06ee9cc407b",
   "metadata": {},
   "outputs": [
    {
     "name": "stdout",
     "output_type": "stream",
     "text": [
      "Hi my name is Matthew. I am a String\n",
      "<class 'str'>\n",
      "Hi my name is Precious. I am also a String\n",
      "<class 'str'>\n"
     ]
    }
   ],
   "source": [
    "str1 = \"Hi my name is Matthew. I am a String\"\n",
    "str2 = 'Hi my name is Precious. I am also a String'\n",
    "\n",
    "print(str1)\n",
    "print(type(str1))\n",
    "\n",
    "print(str2)\n",
    "print(type(str2))\n"
   ]
  },
  {
   "cell_type": "code",
   "execution_count": null,
   "id": "1ff6358a-25c3-457e-af8b-6c1a8cc0f388",
   "metadata": {},
   "outputs": [],
   "source": []
  }
 ],
 "metadata": {
  "kernelspec": {
   "display_name": "Python 3 (ipykernel)",
   "language": "python",
   "name": "python3"
  },
  "language_info": {
   "codemirror_mode": {
    "name": "ipython",
    "version": 3
   },
   "file_extension": ".py",
   "mimetype": "text/x-python",
   "name": "python",
   "nbconvert_exporter": "python",
   "pygments_lexer": "ipython3",
   "version": "3.11.7"
  }
 },
 "nbformat": 4,
 "nbformat_minor": 5
}
