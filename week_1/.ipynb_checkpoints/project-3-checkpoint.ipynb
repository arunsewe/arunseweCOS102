{
 "cells": [
  {
   "cell_type": "code",
   "execution_count": 1,
   "id": "fc85eeb9-b307-4a10-80e5-f6ad7c47d40d",
   "metadata": {},
   "outputs": [
    {
     "name": "stdin",
     "output_type": "stream",
     "text": [
      "What is the annual payment 100\n",
      "What is the rate 100\n",
      "Whta is the time 10\n",
      "What is the number of annual payments 10\n"
     ]
    },
    {
     "name": "stdout",
     "output_type": "stream",
     "text": [
      "The annuity plan amount is: 10990.0\n"
     ]
    }
   ],
   "source": [
    "pmt = float(input(\"What is the annual payment\"))\n",
    "r = float(input(\"What is the rate\"))\n",
    "t = float(input(\"Whta is the time\"))\n",
    "n = float(input(\"What is the number of annual payments\"))\n",
    "\n",
    "amount = pmt * (((1 + (r/n)) * n * t) - 1) / (r/n)\n",
    "\n",
    "print(\"The annuity plan amount is: \" + str(amount))\n"
   ]
  },
  {
   "cell_type": "code",
   "execution_count": null,
   "id": "06a64c81-e8e0-404a-9cba-27ca13b26da8",
   "metadata": {},
   "outputs": [],
   "source": []
  }
 ],
 "metadata": {
  "kernelspec": {
   "display_name": "Python 3 (ipykernel)",
   "language": "python",
   "name": "python3"
  },
  "language_info": {
   "codemirror_mode": {
    "name": "ipython",
    "version": 3
   },
   "file_extension": ".py",
   "mimetype": "text/x-python",
   "name": "python",
   "nbconvert_exporter": "python",
   "pygments_lexer": "ipython3",
   "version": "3.11.7"
  }
 },
 "nbformat": 4,
 "nbformat_minor": 5
}
