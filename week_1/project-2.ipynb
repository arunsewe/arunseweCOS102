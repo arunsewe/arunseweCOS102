{
 "cells": [
  {
   "cell_type": "code",
   "execution_count": 3,
   "id": "7c7c7c44-63c1-4847-b808-0ef7accf3139",
   "metadata": {},
   "outputs": [
    {
     "name": "stdin",
     "output_type": "stream",
     "text": [
      "What is the initial principal amount? 100\n",
      "What is the interest rate? 2\n",
      "What is the time elapsed? 5\n",
      "Waht is the number of times interest applied per time period? 10\n"
     ]
    },
    {
     "name": "stdout",
     "output_type": "stream",
     "text": [
      "The compound interest = 6000.0\n"
     ]
    }
   ],
   "source": [
    "#compound interest\n",
    "principal = input(\"What is the initial principal amount?\")\n",
    "rate = input(\"What is the interest rate?\")\n",
    "time = input(\"What is the time elapsed?\")\n",
    "number = input(\"What is the number of times interest applied per time period?\")\n",
    "\n",
    "p = float(principal)\n",
    "r = float(rate)\n",
    "t = float(time)\n",
    "n = float(number)\n",
    "\n",
    "amount = p * (1 + (r/n))* n * t\n",
    "print(\"The compound interest = \" + str(amount))"
   ]
  },
  {
   "cell_type": "code",
   "execution_count": null,
   "id": "1a4bf4db-193d-4cfe-bd7b-55bbb61c47b6",
   "metadata": {},
   "outputs": [],
   "source": []
  }
 ],
 "metadata": {
  "kernelspec": {
   "display_name": "Python 3 (ipykernel)",
   "language": "python",
   "name": "python3"
  },
  "language_info": {
   "codemirror_mode": {
    "name": "ipython",
    "version": 3
   },
   "file_extension": ".py",
   "mimetype": "text/x-python",
   "name": "python",
   "nbconvert_exporter": "python",
   "pygments_lexer": "ipython3",
   "version": "3.11.7"
  }
 },
 "nbformat": 4,
 "nbformat_minor": 5
}
